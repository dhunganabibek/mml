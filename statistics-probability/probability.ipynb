{
 "cells": [
  {
   "cell_type": "markdown",
   "id": "bdc3d55d",
   "metadata": {},
   "source": [
    "# Probability"
   ]
  },
  {
   "cell_type": "code",
   "execution_count": 6,
   "id": "a4deb858",
   "metadata": {},
   "outputs": [
    {
     "name": "stdout",
     "output_type": "stream",
     "text": [
      "The probability that the difference between the two dice is 1 or 2 is: 0.5000\n"
     ]
    }
   ],
   "source": [
    "import itertools\n",
    "\n",
    "# find all the sample space when two doll is rolled\n",
    "outcomes = list(itertools.product(range(1,7), repeat = 2))\n",
    "diff_1_or_2 = [outcome for outcome in outcomes if abs(outcome[0] - outcome[1]) in (1, 2)]\n",
    "\n",
    "probability = len(diff_1_or_2) / len(outcomes)\n",
    "print(f\"The probability that the difference between the two dice is 1 or 2 is: {probability:.4f}\")"
   ]
  },
  {
   "cell_type": "markdown",
   "id": "06110893",
   "metadata": {},
   "source": []
  }
 ],
 "metadata": {
  "kernelspec": {
   "display_name": "Python 3",
   "language": "python",
   "name": "python3"
  },
  "language_info": {
   "codemirror_mode": {
    "name": "ipython",
    "version": 3
   },
   "file_extension": ".py",
   "mimetype": "text/x-python",
   "name": "python",
   "nbconvert_exporter": "python",
   "pygments_lexer": "ipython3",
   "version": "3.13.5"
  }
 },
 "nbformat": 4,
 "nbformat_minor": 5
}
