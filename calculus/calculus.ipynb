{
 "cells": [
  {
   "cell_type": "markdown",
   "id": "3774dff3",
   "metadata": {},
   "source": [
    "# calculus\n"
   ]
  },
  {
   "cell_type": "code",
   "execution_count": 1,
   "id": "d265c8fd",
   "metadata": {},
   "outputs": [
    {
     "name": "stdout",
     "output_type": "stream",
     "text": [
      "The derivative of f(x) = x**2 + 3*x + 2 is f'(x) = 2*x + 3\n"
     ]
    }
   ],
   "source": [
    "# finding derivatives using sympy\n",
    "from sympy import symbols, diff\n",
    "\n",
    "# Define the variable\n",
    "x = symbols('x')\n",
    "\n",
    "# Define a function\n",
    "f = x**2 + 3*x + 2\n",
    "\n",
    "# Calculate the derivative\n",
    "derivative_f = diff(f, x)\n",
    "\n",
    "# Print the derivative\n",
    "print(f\"The derivative of f(x) = {f} is f'(x) = {derivative_f}\")\n",
    "\n"
   ]
  },
  {
   "cell_type": "code",
   "execution_count": 1,
   "id": "e32edd1d",
   "metadata": {},
   "outputs": [
    {
     "name": "stdout",
     "output_type": "stream",
     "text": [
      "The partial derivative of f(x, y) = x**2*y + 3*x*y**2 + 2*y with respect to x is ∂f/∂x = 2*x*y + 3*y**2\n",
      "The partial derivative of f(x, y) = x**2*y + 3*x*y**2 + 2*y with respect to y is ∂f/∂y = x**2 + 6*x*y + 2\n"
     ]
    }
   ],
   "source": [
    "# calculating the partial derivative of a function of two variables\n",
    "from sympy import symbols, diff\n",
    "\n",
    "# Define the variables\n",
    "x, y = symbols('x y')\n",
    "\n",
    "# Define a function of two variables\n",
    "f = x**2 * y + 3*x*y**2 + 2*y\n",
    "\n",
    "# Calculate the partial derivative with respect to x\n",
    "partial_derivative_f_x = diff(f, x)\n",
    "# Calculate the partial derivative with respect to y\n",
    "partial_derivative_f_y = diff(f, y)\n",
    "\n",
    "# Print the partial derivatives\n",
    "print(f\"The partial derivative of f(x, y) = {f} with respect to x is ∂f/∂x = {partial_derivative_f_x}\")\n",
    "print(f\"The partial derivative of f(x, y) = {f} with respect to y is ∂f/∂y = {partial_derivative_f_y}\")"
   ]
  },
  {
   "cell_type": "code",
   "execution_count": null,
   "id": "f96a4fbb",
   "metadata": {},
   "outputs": [],
   "source": []
  }
 ],
 "metadata": {
  "kernelspec": {
   "display_name": "Python 3",
   "language": "python",
   "name": "python3"
  },
  "language_info": {
   "codemirror_mode": {
    "name": "ipython",
    "version": 3
   },
   "file_extension": ".py",
   "mimetype": "text/x-python",
   "name": "python",
   "nbconvert_exporter": "python",
   "pygments_lexer": "ipython3",
   "version": "3.13.5"
  }
 },
 "nbformat": 4,
 "nbformat_minor": 5
}
