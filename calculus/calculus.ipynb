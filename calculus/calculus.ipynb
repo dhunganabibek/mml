{
 "cells": [
  {
   "cell_type": "markdown",
   "id": "3774dff3",
   "metadata": {},
   "source": [
    "# calculus\n"
   ]
  },
  {
   "cell_type": "code",
   "execution_count": 1,
   "id": "d265c8fd",
   "metadata": {},
   "outputs": [
    {
     "name": "stdout",
     "output_type": "stream",
     "text": [
      "The derivative of f(x) = x**2 + 3*x + 2 is f'(x) = 2*x + 3\n"
     ]
    }
   ],
   "source": [
    "# finding derivatives using sympy\n",
    "from sympy import symbols, diff\n",
    "\n",
    "# Define the variable\n",
    "x = symbols('x')\n",
    "\n",
    "# Define a function\n",
    "f = x**2 + 3*x + 2\n",
    "\n",
    "# Calculate the derivative\n",
    "derivative_f = diff(f, x)\n",
    "\n",
    "# Print the derivative\n",
    "print(f\"The derivative of f(x) = {f} is f'(x) = {derivative_f}\")\n",
    "\n"
   ]
  },
  {
   "cell_type": "code",
   "execution_count": 1,
   "id": "e32edd1d",
   "metadata": {},
   "outputs": [
    {
     "name": "stdout",
     "output_type": "stream",
     "text": [
      "The partial derivative of f(x, y) = x**2*y + 3*x*y**2 + 2*y with respect to x is ∂f/∂x = 2*x*y + 3*y**2\n",
      "The partial derivative of f(x, y) = x**2*y + 3*x*y**2 + 2*y with respect to y is ∂f/∂y = x**2 + 6*x*y + 2\n"
     ]
    }
   ],
   "source": [
    "# calculating the partial derivative of a function of two variables\n",
    "from sympy import symbols, diff\n",
    "\n",
    "# Define the variables\n",
    "x, y = symbols('x y')\n",
    "\n",
    "# Define a function of two variables\n",
    "f = x**2 * y + 3*x*y**2 + 2*y\n",
    "\n",
    "# Calculate the partial derivative with respect to x\n",
    "partial_derivative_f_x = diff(f, x)\n",
    "# Calculate the partial derivative with respect to y\n",
    "partial_derivative_f_y = diff(f, y)\n",
    "\n",
    "# Print the partial derivatives\n",
    "print(f\"The partial derivative of f(x, y) = {f} with respect to x is ∂f/∂x = {partial_derivative_f_x}\")\n",
    "print(f\"The partial derivative of f(x, y) = {f} with respect to y is ∂f/∂y = {partial_derivative_f_y}\")"
   ]
  },
  {
   "cell_type": "code",
   "execution_count": 7,
   "id": "f96a4fbb",
   "metadata": {},
   "outputs": [
    {
     "name": "stdout",
     "output_type": "stream",
     "text": [
      "The numerical derivative of f(x) at x=1.0 is f'(1.0) = 4.999999999999972\n"
     ]
    }
   ],
   "source": [
    "# finding derivatives with scipy numerically\n",
    "import numpy as np\n",
    "from scipy.differentiate import derivative\n",
    "\n",
    "def f(x):\n",
    "    return x**2 + 3*x + 2\n",
    "\n",
    "# Calculate the numerical derivative at a point\n",
    "df_dx = derivative(f, 1.0)\n",
    "# Print the numerical derivative\n",
    "print(f\"The numerical derivative of f(x) at x=1.0 is f'(1.0) = {df_dx['df']}\")"
   ]
  },
  {
   "cell_type": "code",
   "execution_count": null,
   "id": "af2abfe6",
   "metadata": {},
   "outputs": [],
   "source": [
    "# one variable gradient using numpy\n",
    "import numpy as np\n",
    "\n",
    "def f(x):\n",
    "    return x**2 + 3*x + 2\n",
    "\n",
    "def df_dx(x):\n",
    "    return 2*x + 3\n",
    "\n",
    "x = 10\n",
    "learning_rate = 0.01\n",
    "\n",
    "for i in range(10):\n",
    "    gradient = df_dx(x)\n",
    "    x -= learning_rate * gradient\n",
    "    print(f\"Iteration {i+1}: x = {x}, f(x) = {f(x)}\")"
   ]
  }
 ],
 "metadata": {
  "kernelspec": {
   "display_name": "Python 3",
   "language": "python",
   "name": "python3"
  },
  "language_info": {
   "codemirror_mode": {
    "name": "ipython",
    "version": 3
   },
   "file_extension": ".py",
   "mimetype": "text/x-python",
   "name": "python",
   "nbconvert_exporter": "python",
   "pygments_lexer": "ipython3",
   "version": "3.13.5"
  }
 },
 "nbformat": 4,
 "nbformat_minor": 5
}
