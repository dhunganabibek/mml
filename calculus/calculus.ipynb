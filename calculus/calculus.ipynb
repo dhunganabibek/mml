{
 "cells": [
  {
   "cell_type": "markdown",
   "id": "3774dff3",
   "metadata": {},
   "source": [
    "# calculus\n"
   ]
  },
  {
   "cell_type": "code",
   "execution_count": 1,
   "id": "d265c8fd",
   "metadata": {},
   "outputs": [
    {
     "name": "stdout",
     "output_type": "stream",
     "text": [
      "The derivative of f(x) = x**2 + 3*x + 2 is f'(x) = 2*x + 3\n"
     ]
    }
   ],
   "source": [
    "# finding derivatives using sympy\n",
    "from sympy import symbols, diff\n",
    "\n",
    "# Define the variable\n",
    "x = symbols('x')\n",
    "\n",
    "# Define a function\n",
    "f = x**2 + 3*x + 2\n",
    "\n",
    "# Calculate the derivative\n",
    "derivative_f = diff(f, x)\n",
    "\n",
    "# Print the derivative\n",
    "print(f\"The derivative of f(x) = {f} is f'(x) = {derivative_f}\")\n",
    "\n"
   ]
  },
  {
   "cell_type": "code",
   "execution_count": null,
   "id": "e32edd1d",
   "metadata": {},
   "outputs": [],
   "source": []
  }
 ],
 "metadata": {
  "kernelspec": {
   "display_name": "Python 3",
   "language": "python",
   "name": "python3"
  },
  "language_info": {
   "codemirror_mode": {
    "name": "ipython",
    "version": 3
   },
   "file_extension": ".py",
   "mimetype": "text/x-python",
   "name": "python",
   "nbconvert_exporter": "python",
   "pygments_lexer": "ipython3",
   "version": "3.13.5"
  }
 },
 "nbformat": 4,
 "nbformat_minor": 5
}
